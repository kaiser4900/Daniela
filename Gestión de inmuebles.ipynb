{
 "cells": [
  {
   "cell_type": "code",
   "execution_count": 1,
   "metadata": {},
   "outputs": [],
   "source": [
    "import sqlalchemy"
   ]
  },
  {
   "cell_type": "code",
   "execution_count": 2,
   "metadata": {},
   "outputs": [],
   "source": [
    "from sqlalchemy import *\n",
    "from sqlalchemy.orm import *"
   ]
  },
  {
   "cell_type": "code",
   "execution_count": 3,
   "metadata": {},
   "outputs": [],
   "source": [
    "from sqlalchemy.ext.declarative import declarative_base\n",
    "Base=declarative_base()"
   ]
  },
  {
   "cell_type": "code",
   "execution_count": 4,
   "metadata": {},
   "outputs": [],
   "source": [
    "from sqlalchemy import Integer, String, Float, Boolean, Column"
   ]
  },
  {
   "cell_type": "code",
   "execution_count": 5,
   "metadata": {
    "scrolled": true
   },
   "outputs": [],
   "source": [
    "#un edificio tiene pisos o locales\n",
    "\n",
    "class Persona(Base):\n",
    "    __tablename__='persona'\n",
    "    id=Column(Integer,primary_key=True)\n",
    "    nombre=Column(String(100))\n",
    "    dni=Column(String(8))\n",
    "    edad=Column(Integer)\n",
    "    sexo=Column(String(50))\n",
    "    aval_bancario=Column(Boolean)\n",
    "    aval_tercero=Column(Boolean)\n",
    "    contratado=Column(Boolean)    \n"
   ]
  },
  {
   "cell_type": "code",
   "execution_count": 6,
   "metadata": {},
   "outputs": [],
   "source": [
    "#fotografia\n",
    "    \n",
    "class Local(Base):\n",
    "    __tablename__='local'\n",
    "    id=Column(Integer,primary_key=True)\n",
    "    nombre_local=Column(String(100))\n",
    "    propietario_id=Column(Integer,ForeignKey('persona.id'))\n",
    "    propietario=relationship(Persona)\n",
    "\n"
   ]
  },
  {
   "cell_type": "code",
   "execution_count": 7,
   "metadata": {},
   "outputs": [],
   "source": [
    "class Piso(Base):\n",
    "    __tablename__='piso'\n",
    "    id=Column(Integer,primary_key=True)\n",
    "    num_piso=Column(Integer)\n",
    "    planta=Column(String(50))\n",
    "    local_id=Column(Integer,ForeignKey('local.id'))\n",
    "    local=relationship(Local)\n",
    "    propietario_id=Column(Integer,ForeignKey('persona.id'))\n",
    "    propietario=relationship(Persona)\n"
   ]
  },
  {
   "cell_type": "code",
   "execution_count": 8,
   "metadata": {},
   "outputs": [],
   "source": [
    "class Edificio(Base):\n",
    "    __tablename__='edificio'\n",
    "    id=Column(Integer,primary_key=True)\n",
    "    codigo_postal=Column(String(100))\n",
    "    direccion=Column(String(500))\n",
    "    piso_id=Column(Integer,ForeignKey('piso.id'))\n",
    "    piso=relationship(Piso)\n",
    "    propietario_id=Column(Integer,ForeignKey('persona.id'))\n",
    "    propietario=relationship(Persona)\n",
    "    #propietario="
   ]
  },
  {
   "cell_type": "code",
   "execution_count": 9,
   "metadata": {},
   "outputs": [],
   "source": [
    "class Recibo(Base):\n",
    "    __tablename__='recibo'\n",
    "    id=Column(Integer,primary_key=True)\n",
    "    local_id=Column(Integer,ForeignKey('local.id'))\n",
    "    local=relationship(Local)\n",
    "    piso_id=Column(Integer,ForeignKey('piso.id'))\n",
    "    piso=relationship(Piso)\n",
    "    edificio_id=Column(Integer,ForeignKey('edificio.id'))\n",
    "    edificio=relationship(Edificio)\n",
    "    propietario_id=Column(Integer,ForeignKey('persona.id'))\n",
    "    propietario=relationship(Persona)\n",
    "    fecha=Column(String(20))\n",
    "    descripcion=Column(String(500))\n",
    "    monto=Column(Integer)\n"
   ]
  },
  {
   "cell_type": "code",
   "execution_count": 10,
   "metadata": {},
   "outputs": [],
   "source": [
    "from sqlalchemy import create_engine\n",
    "engine=sqlalchemy.create_engine('sqlite:///Ginmuebles.db')"
   ]
  },
  {
   "cell_type": "code",
   "execution_count": 11,
   "metadata": {},
   "outputs": [],
   "source": [
    "Base.metadata.create_all(engine)"
   ]
  },
  {
   "cell_type": "code",
   "execution_count": 12,
   "metadata": {},
   "outputs": [],
   "source": [
    "from sqlalchemy.orm import sessionmaker\n",
    "Sesion=sessionmaker(bind=engine)\n",
    "session=Sesion()"
   ]
  },
  {
   "cell_type": "code",
   "execution_count": null,
   "metadata": {},
   "outputs": [],
   "source": []
  }
 ],
 "metadata": {
  "kernelspec": {
   "display_name": "Python 3",
   "language": "python",
   "name": "python3"
  },
  "language_info": {
   "codemirror_mode": {
    "name": "ipython",
    "version": 3
   },
   "file_extension": ".py",
   "mimetype": "text/x-python",
   "name": "python",
   "nbconvert_exporter": "python",
   "pygments_lexer": "ipython3",
   "version": "3.7.3"
  }
 },
 "nbformat": 4,
 "nbformat_minor": 2
}
